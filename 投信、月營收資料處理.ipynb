{
 "cells": [
  {
   "cell_type": "code",
   "execution_count": null,
   "id": "ef6e3fca",
   "metadata": {},
   "outputs": [],
   "source": [
    "import pandas as pd\n",
    "import warnings\n",
    "warnings.filterwarnings('ignore')"
   ]
  },
  {
   "cell_type": "code",
   "execution_count": null,
   "id": "b1ca2787",
   "metadata": {},
   "outputs": [],
   "source": [
    "df = pd.read_csv(r\"C:\\Users\\User\\Downloads\\trust.csv\", header=None)\n",
    "df = df[0].str.split(\" \", expand=True)\n",
    "df.columns = [\"日期\", \"代碼\", \"10日均量\", \"60日高點\", \"月營收YoY\", \"投信連買天數\", \"Drop\"]\n",
    "df[\"日期\"] = df[\"日期\"].astype(str).str.slice(0, 8)\n",
    "df[\"日期\"] = pd.to_datetime(df[\"日期\"], format='%Y%m%d')\n",
    "df[\"代碼\"] = df[\"代碼\"].astype(str).str.slice(0, 4)\n",
    "df[\"10日均量\"] = df[\"10日均量\"].astype(float); df[\"10日均量\"] = df[\"10日均量\"].astype(int)\n",
    "df[\"60日高點\"] = df[\"60日高點\"].astype(float)\n",
    "df[\"月營收YoY\"] = df[\"月營收YoY\"].astype(float)\n",
    "df[\"投信連買天數\"] = df[\"投信連買天數\"].astype(float); df[\"投信連買天數\"] = df[\"投信連買天數\"].astype(int)\n",
    "df = df.drop([\"Drop\"], axis=1)"
   ]
  },
  {
   "cell_type": "code",
   "execution_count": null,
   "id": "e8ac60e3",
   "metadata": {},
   "outputs": [],
   "source": [
    "today = df[df[\"日期\"] == \"2024-04-19\"].reset_index(drop=True)"
   ]
  },
  {
   "cell_type": "code",
   "execution_count": null,
   "id": "7edaea0e",
   "metadata": {},
   "outputs": [],
   "source": [
    "today = today.drop([\"日期\"], axis=1)"
   ]
  },
  {
   "cell_type": "code",
   "execution_count": null,
   "id": "84597543",
   "metadata": {},
   "outputs": [],
   "source": [
    "today.to_csv(r\"C:\\Users\\User/5. 看盤/投信月營收/2024-04-19 投信月營收.csv\")"
   ]
  }
 ],
 "metadata": {
  "kernelspec": {
   "display_name": "Python 3 (ipykernel)",
   "language": "python",
   "name": "python3"
  },
  "language_info": {
   "codemirror_mode": {
    "name": "ipython",
    "version": 3
   },
   "file_extension": ".py",
   "mimetype": "text/x-python",
   "name": "python",
   "nbconvert_exporter": "python",
   "pygments_lexer": "ipython3",
   "version": "3.11.4"
  }
 },
 "nbformat": 4,
 "nbformat_minor": 5
}
