{
 "cells": [
  {
   "cell_type": "code",
   "execution_count": null,
   "id": "07f621d8",
   "metadata": {},
   "outputs": [],
   "source": [
    "def set_color_group(val): # 族群平均漲幅\n",
    "    if float(val) > 5:\n",
    "        color = \"lightcoral\"\n",
    "    elif 2.5 <= float(val) <= 5:\n",
    "        color = 'pink'\n",
    "    elif -5 <= float(val) < -2:\n",
    "        color = 'lightgreen'\n",
    "    elif float(val) < -5:\n",
    "        color = 'green'\n",
    "    else:\n",
    "        color = 'white'\n",
    "    return f'background-color: {color}'\n",
    "\n",
    "def set_color_rank(val): # \n",
    "    if val <= 20:\n",
    "        color = 'yellow'\n",
    "    else:\n",
    "        color = 'white'\n",
    "    return f'background-color: {color}'\n",
    "\n",
    "def set_color_per(val):\n",
    "    if float(val) >= 4:\n",
    "        color = 'pink'\n",
    "    elif float(val) <= -4:\n",
    "        color = \"lightgreen\"\n",
    "    else:\n",
    "        color = 'white'\n",
    "    return f'background-color: {color}'\n",
    "\n",
    "def process_cell(cell):\n",
    "    match = re.match(r'([\\d.]+)(億|萬)?', cell)\n",
    "    if match:\n",
    "        num = float(match.group(1)) \n",
    "        unit = match.group(2)  \n",
    "        if unit == '萬':\n",
    "            return round(num*0.0001, 2)\n",
    "        elif unit == '億':\n",
    "            return round(num, 2)\n",
    "    else:\n",
    "        return cell"
   ]
  },
  {
   "cell_type": "code",
   "execution_count": null,
   "id": "d9be2625",
   "metadata": {},
   "outputs": [],
   "source": [
    "categories = {\n",
    "    # \"權值\": [\"台積電\", \"鴻海\", \"聯發科\", \"廣達\", \"台達電\", \"日月光投控\", \"聯電\", \"富邦金\", \"國泰金\", \"中華電\", \"台泥\"],\n",
    "    # \"IGNORE\": [\"中華電\", \"台泥\"],\n",
    "    \"重電\": [\"華城\", \"中興電\", \"士電\", \"亞力\", \"大同\", \"東元\", \"洋華\"],\n",
    "    \"電纜\": [\"大亞\", \"華榮\", \"宏泰\", \"華電\", \"華興\", \"合機\", \"華新\"],\n",
    "    \"綠能\": [\"世紀鋼\", \"森崴能源\", \"上緯投控\", \"樂事綠能\"],\n",
    "    \"儲能\": [\"台達電\", \"光寶科\"],\n",
    "    \"太陽能模組\": [\"元晶\", \"聯合再生\", \"茂迪\"],\n",
    "    \"水資源\": [\"國統\", \"山林水\", \"中工\", \"力麒\", \"欣陸\", \"中鼎\", \"中宇\"],\n",
    "    \"先進製程\": [\"台積電\"],\n",
    "    \"成熟製程\": [\"聯電\", \"世界\", \"力積電\"],\n",
    "    \"半導體設備\": [\"萬潤\", \"弘塑\", \"志聖\", \"家登\", \"辛耘\", \"中砂\", \"帆宣\", \"公準\", \"蔚華科\", \"大量\", \"均豪\", \"均華\", \"大量\", \"光洋科\"],\n",
    "    \"半導體廠務\": [\"亞翔\", \"信紘科\", \"聖暉*\", \"漢唐\", \"洋基工程\", \"崇越\", \"牧德\"],\n",
    "    \"半導體檢測\": [\"閎康\", \"汎銓\", \"宜特\"],\n",
    "    \"半導體化材\": [\"上品\", \"達興材料\", \"勝一\", \"三福化\", \"晶呈科技\"],\n",
    "    \"半導體矽晶圓\": [\"環球晶\", \"台勝科\", \"中美晶\", \"合晶\"],\n",
    "    \"半導體測試介面\": [\"旺矽\", \"穎崴\", \"精測\"],\n",
    "    \"半導體封裝\": [\"華泰\", \"日月光投控\", \"京元電子\"],\n",
    "    \"記憶體\": [\"群聯\", \"威剛\", \"十銓\", \"宇瞻\", \"南亞科\", \"華邦電\", \"晶豪科\", \"創見\", \"至上\", \"旺宏\", \"南茂\", \"力成\"],\n",
    "    \"手機IC\": [\"聯發科\", \"達發\", \"瑞昱\"],\n",
    "    \"DDIC\": [\"聯詠\", \"瑞鼎\", \"矽創\", \"天鈺\", \"敦泰\"],\n",
    "    \"PMIC\": [\"矽力*-KY\", \"茂達\", \"力智\", \"致新\"],\n",
    "    \"傳輸IC\": [\"譜瑞\", \"祥碩\", \"信驊\"],\n",
    "    \"顯卡\": [\"撼訊\", \"麗臺\"],\n",
    "    \"連接器\": [\"嘉澤\", \"宏致\", \"良維\", \"信音\"],\n",
    "    \"AI伺服器\": [\"廣達\", \"緯創\", \"緯穎\", \"技嘉\", \"英業達\", \"鴻海\"],\n",
    "    \"IP\": [\"世芯-KY\", \"創意\", \"智原\", \"力旺\", \"M31\",  \"愛普*\"],\n",
    "    \"中國IC / IP\": [\"威盛\", \"金麗科\", \"晶心科\"],\n",
    "    \"神盾集團\": [\"神盾\", \"安國\", \"安格\", \"驊訊\", \"芯鼎\", \"迅杰\"],\n",
    "    \"伺服器滑軌\": [\"川湖\", \"南俊國際\"],\n",
    "    \"散熱\": [\"奇鋐\", \"雙鴻\", \"高力\", \"建準\", \"健策\", \"尼德科超眾\", \"AMAX-KY\"],\n",
    "    \"機殼\": [\"迎廣\", \"勤誠\", \"振發\", \"旭品\", \"營邦\", \"晟銘電\"],\n",
    "    \"光通訊\": [\"聯亞\", \"統新\", \"光環\", \"華星光\", \"訊芯-KY\", \"聯均\", \"上詮\", \"台通\", \"光聖\", \"前鼎\", \"眾達-KY\", \"波若威\", \"創威\"],\n",
    "    \"軸承\": [\"兆利\", \"富世達\", \"新日興\", \"信錦\"],\n",
    "    \"光學\": [\"大立光\", \"玉晶光\", \"揚明光\", \"先進光\", \"亞光\", \"采鈺\"],\n",
    "    \"軍工\": [\"漢翔\", \"亞航\", \"寶一\", \"雷虎\", \"邑錡\", \"中光電\", \"千附精密\", \"八貫\", \"精剛\", \"龍德造船\", \"台船\", \"長榮航太\", \"全訊\"],\n",
    "    \"工業電腦\": [\"研華\", \"樺漢\", \"威強電\", \"研揚\"],\n",
    "    \"機器人\": [\"所羅門\", \"廣明\", \"百達-KY\"],\n",
    "    \"生技\": [\"順藥\", \"保瑞\", \"台耀\", \"美時\", \"安克\"],\n",
    "    \"PC\": [\"宏碁\", \"華碩\", \"微星\", \"仁寶\", \"義隆\", \"藍天\"],\n",
    "    \"電子紙\": [\"元太\", \"振曜\"],\n",
    "    \"PA\": [\"立積\", \"穩懋\", \"宏捷科\", \"全新\", \"耕興\"],\n",
    "    \"GaN\": [\"漢磊\", \"嘉晶\"],\n",
    "    \"ABF\": [\"欣興\", \"南電\", \"景碩\"],\n",
    "    \"CCL / AI PCB\": [\"台光電\", \"台燿\", \"聯茂\", \"金居\", \"金像電\"],\n",
    "    \"車用PCB\": [\"定穎投控\", \"健鼎\", \"敬鵬\"],\n",
    "    \"衛星板\": [\"華通\", \"燿華\", \"新復興\", \"昇達科\"],\n",
    "    \"車用電子\": [\"華孚\", \"胡連\", \"乙盛-KY\", \"新唐\", \"同欣電\"],\n",
    "    \"車用AM\": [\"東陽\", \"堤維西\", \"耿鼎\", \"帝寶\"],\n",
    "    \"營建\": [\"華固\", \"冠德\", \"長虹\", \"國產\", \"國建\", \"皇昌\", \"南港\", \"聯上\", \"皇普\", \"永信建\", \"華建\", \"三發地產\", \"櫻花建\", \"新美齊\", \"新潤\", \"愛山林\", \"亞昕\", \"坤悅\", \"晶悅\", \"昇陽\", \"富宇\", \"華友聯\", \"隆大\", \"富華新\", \"皇鼎\"],\n",
    "    \"自行車\": [\"巨大\", \"美利達\"],\n",
    "    \"被動元件\": [\"國巨\", \"華新科\"],\n",
    "    \"網通\": [\"啟碁\", \"中磊\", \"智易\", \"智邦\", \"正文\", \"海華\", \"正基\", \"神準\", \"合勤控\"],\n",
    "    \"成衣製鞋\": [\"聚陽\", \"儒鴻\", \"寶成\", \"豐泰\", \"鈺齊-KY\"],\n",
    "    \"航運\": [\"華航\", \"長榮航\"],\n",
    "    \"海運\": [\"長榮\", \"陽明\", \"萬海\"],\n",
    "    \"面板\": [\"友達\", \"群創\"],\n",
    "    \"金融\": [\"國泰金\", \"玉山金\", \"富邦金\", \"中信金\", \"新光金\", \"台新金\", \"元大金\", \"兆豐金\"],\n",
    "    \"資安軟體\": [\"精誠\", \"敦陽科\", \"零壹\", \"宏碁資訊\", \"邁達特\", \"緯軟\", \"凌群\"],\n",
    "    \"鋼鐵\": [\"中鴻\", \"大成鋼\", \"長榮鋼\"]\n",
    "}"
   ]
  },
  {
   "cell_type": "code",
   "execution_count": null,
   "id": "38f984f7",
   "metadata": {},
   "outputs": [],
   "source": [
    "import pandas as pd\n",
    "import re\n",
    "import warnings\n",
    "warnings.filterwarnings(\"ignore\")\n",
    "\n",
    "df = pd.read_csv(r\"C:\\Users\\User\\Downloads\\Book1.csv\")\n",
    "基本_籌碼資料 = pd.read_csv(r\"C:\\Users\\User\\5. 看盤\\投信月營收\\2024-04-19 投信月營收.csv\"); 基本_籌碼資料.drop(columns=[\"Unnamed: 0\"], inplace=True)\n",
    "df = pd.merge(df, 基本_籌碼資料, on='代碼', how='left')\n",
    "\n",
    "df[\"排名\"] = df.index + 1\n",
    "new_column_order = ['排名'] + [col for col in df.columns if col != '排名']\n",
    "df = df[new_column_order]\n",
    "\n",
    "df['族群'] = ''\n",
    "for index, row in df.iterrows():\n",
    "    categorized = False\n",
    "    for category, items in categories.items():\n",
    "        if row['商品'] in items:\n",
    "            df.at[index, '族群'] = category\n",
    "            categorized = True \n",
    "            break\n",
    "    if not categorized:\n",
    "        df.at[index, '族群'] = \"其他\"\n",
    "\n",
    "df[\"成交值\"] = df[\"成交值\"].apply(process_cell)\n",
    "# df[\"成交值(億)\"] = df[\"成交值\"].str.replace(\"億\", \"\").astype(float); df.drop(columns=[\"成交值\"], inplace=True)\n",
    "df[\"成交值(億)\"] = df[\"成交值\"]\n",
    "df.drop(columns=[\"成交值\"], inplace=True)\n",
    "df[\"資金流向(億)\"] = round((0.01*(2*df[\"內外盤比圖\"]) - 1) * df[\"成交值(億)\"], 2)\n",
    "df[\"內外盤比\"] = df[\"內外盤比圖\"]; df.drop(columns=[\"內外盤比圖\"], inplace=True)\n",
    "\n",
    "df = df[[\"排名\", \"商品\", \"族群\", \"成交\", \"60日高點\", \"總量\", \"10日均量\", \"月營收YoY\", \"投信連買天數\", \"資金流向(億)\", \"內外盤比\", \"漲幅%\"]]\n",
    "\n",
    "# 族群\n",
    "grouped = df[df['族群'] != '其他']\n",
    "grouped = grouped.groupby('族群').agg({'商品': 'count', '漲幅%': 'mean'})\n",
    "grouped.columns = ['檔數', '平均漲幅%']\n",
    "\n",
    "max_increase_idx = df.groupby('族群')['漲幅%'].idxmax()\n",
    "max_increase_rows = df.loc[max_increase_idx, ['族群', '商品', '漲幅%']]\n",
    "max_increase_rows.set_index('族群', inplace=True)\n",
    "grouped['領漲'] = max_increase_rows['商品']\n",
    "grouped['領漲漲幅%'] = max_increase_rows['漲幅%']\n",
    "\n",
    "total_list = []; flow_list = []\n",
    "for i in range(len(grouped)):\n",
    "    group_name = grouped.index[i]\n",
    "    name_list = []\n",
    "    flow = 0\n",
    "    for j in range(len(categories[group_name])):\n",
    "        if categories[group_name][j] in list(df[\"商品\"]):\n",
    "            name_list.append(categories[group_name][j])\n",
    "            flow = float(df[df[\"商品\"] == categories[group_name][j]][\"資金流向(億)\"])\n",
    "    total_list.append(name_list)\n",
    "    flow_list.append(flow)\n",
    "grouped[\"上榜個股\"] = total_list\n",
    "grouped[\"資金流向(億)\"] = flow_list\n",
    "grouped['上榜個股'] = grouped['上榜個股'].apply(lambda x: ', '.join(x))\n",
    "grouped = grouped.sort_values(by='平均漲幅%', ascending=False)\n",
    "\n",
    "columns_to_format = ['平均漲幅%', '領漲漲幅%', \"資金流向(億)\"]\n",
    "grouped[columns_to_format] = grouped[columns_to_format].apply(lambda x: x.apply(lambda y: '{:.2f}'.format(y)))\n",
    "r = grouped\n",
    "not_grouped = grouped[grouped[\"檔數\"] == 1] # 只有一檔上榜 (個別表現)\n",
    "grouped = grouped[grouped[\"檔數\"] > 1] # 超過一檔上榜 (族群性佳)\n",
    "not_grouped = not_grouped.style.applymap(set_color_group, subset=['平均漲幅%'])\n",
    "grouped = grouped.style.applymap(set_color_group, subset=['平均漲幅%'])"
   ]
  },
  {
   "cell_type": "code",
   "execution_count": null,
   "id": "abf35404",
   "metadata": {
    "scrolled": true
   },
   "outputs": [],
   "source": [
    "# 創高\n",
    "new_high = df[df[\"成交\"].astype(float) > df[\"60日高點\"].astype(float)]; new_high.reset_index(drop=True)"
   ]
  },
  {
   "cell_type": "code",
   "execution_count": null,
   "id": "bdf5e87f",
   "metadata": {
    "scrolled": true
   },
   "outputs": [],
   "source": [
    "top_20 = df.head(20)\n",
    "columns_to_format = ['成交', '60日高點', '月營收YoY', \"資金流向(億)\", \"內外盤比\", \"漲幅%\"]\n",
    "top_20[columns_to_format] = top_20[columns_to_format].apply(lambda x: x.apply(lambda y: '{:.2f}'.format(y)))\n",
    "top_20.style.applymap(set_color_per, subset=['漲幅%'])"
   ]
  },
  {
   "cell_type": "code",
   "execution_count": null,
   "id": "86385b64",
   "metadata": {
    "scrolled": true
   },
   "outputs": [],
   "source": [
    "grouped"
   ]
  },
  {
   "cell_type": "code",
   "execution_count": null,
   "id": "66655d1e",
   "metadata": {
    "scrolled": true
   },
   "outputs": [],
   "source": [
    "not_grouped"
   ]
  },
  {
   "cell_type": "code",
   "execution_count": null,
   "id": "935af921",
   "metadata": {
    "scrolled": true
   },
   "outputs": [],
   "source": [
    "search = df[df[\"族群\"] == \"其他\"]\n",
    "search = search.sort_values(by=\"漲幅%\", ascending=False).reset_index(drop=True)\n",
    "columns_to_format = [\"成交\", \"60日高點\", \"漲幅%\", '月營收YoY', '資金流向(億)', \"內外盤比\"]\n",
    "search[columns_to_format] = search[columns_to_format].apply(lambda x: x.apply(lambda y: '{:.2f}'.format(y)))\n",
    "search.style.applymap(set_color_rank, subset=[\"排名\"])"
   ]
  },
  {
   "cell_type": "code",
   "execution_count": null,
   "id": "cd24f821",
   "metadata": {},
   "outputs": [],
   "source": [
    "trust = df[df[\"投信連買天數\"] >= 10]\n",
    "trust.sort_values(by='投信連買天數', ascending=False).reset_index(drop=True)"
   ]
  }
 ],
 "metadata": {
  "kernelspec": {
   "display_name": "Python 3 (ipykernel)",
   "language": "python",
   "name": "python3"
  },
  "language_info": {
   "codemirror_mode": {
    "name": "ipython",
    "version": 3
   },
   "file_extension": ".py",
   "mimetype": "text/x-python",
   "name": "python",
   "nbconvert_exporter": "python",
   "pygments_lexer": "ipython3",
   "version": "3.11.4"
  }
 },
 "nbformat": 4,
 "nbformat_minor": 5
}
